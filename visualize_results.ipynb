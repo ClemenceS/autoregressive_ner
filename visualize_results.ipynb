{
 "cells": [
  {
   "cell_type": "code",
   "execution_count": 55,
   "metadata": {},
   "outputs": [
    {
     "name": "stdout",
     "output_type": "stream",
     "text": [
      "    corpus prompt_dict  n_few_shot  random_seed sample  precision  rappel  \\\n",
      "0   quaero          en         5.0          1.0      n       0.37    0.33   \n",
      "1   quaero          en         5.0          2.0      n       0.29    0.35   \n",
      "2   quaero          en         5.0          3.0      n       0.33    0.29   \n",
      "3   quaero          en        10.0          1.0      n       0.31    0.32   \n",
      "4   quaero          en        10.0          2.0      n       0.20    0.28   \n",
      "..     ...         ...         ...          ...    ...        ...     ...   \n",
      "85  quaero          en         5.0          2.0      n       0.28    0.33   \n",
      "86  quaero          en         5.0          3.0      n       0.34    0.29   \n",
      "87  quaero          en        10.0          1.0      n       0.34    0.33   \n",
      "88  quaero          en        10.0          2.0      n       0.25    0.30   \n",
      "89  quaero          en        10.0          3.0      n       0.27    0.29   \n",
      "\n",
      "      f1 control_beam_search language_tag  \n",
      "0   0.35    nocontrol_nobeam      fr_DISO  \n",
      "1   0.32    nocontrol_nobeam      fr_DISO  \n",
      "2   0.31    nocontrol_nobeam      fr_DISO  \n",
      "3   0.32    nocontrol_nobeam      fr_DISO  \n",
      "4   0.23    nocontrol_nobeam      fr_DISO  \n",
      "..   ...                 ...          ...  \n",
      "85  0.30      nocontrol_beam      fr_DISO  \n",
      "86  0.31      nocontrol_beam      fr_DISO  \n",
      "87  0.34      nocontrol_beam      fr_DISO  \n",
      "88  0.27      nocontrol_beam      fr_DISO  \n",
      "89  0.28      nocontrol_beam      fr_DISO  \n",
      "\n",
      "[66 rows x 10 columns]\n"
     ]
    },
    {
     "data": {
      "text/plain": [
       "<seaborn.axisgrid.FacetGrid at 0x7fddf25be730>"
      ]
     },
     "execution_count": 55,
     "metadata": {},
     "output_type": "execute_result"
    },
    {
     "data": {
      "image/png": "[encoded data removed]",
      "text/plain": [
       "<Figure size 216x216 with 1 Axes>"
      ]
     },
     "metadata": {},
     "output_type": "display_data"
    }
   ],
   "source": [
    "import pandas as pd\n",
    "import seaborn as sns\n",
    "\n",
    "pd.set_option('display.max_colwidth', 1600)\n",
    "pd.set_option('display.max_columns', 100)\n",
    "\n",
    "#load data\n",
    "df = pd.read_csv('results.csv')\n",
    "\n",
    "#rename control column so that n becomes nocontrol and y becomes control\n",
    "df['control'] = df['control'].replace(['n', 'y'], ['nocontrol', 'control'])\n",
    "#rename beam_search column so that n becomes nobeam and y becomes beam\n",
    "df['beam_search'] = df['beam_search'].replace(['n', 'y'], ['nobeam', 'beam'])\n",
    "\n",
    "\n",
    "#group (control, beam_search) by (y, y) (y, n) (n, y) (n, n) into a new column\n",
    "df['control_beam_search'] = df['control'] + '_' + df['beam_search']\n",
    "df = df.drop(columns=['control', 'beam_search'])\n",
    "\n",
    "#group (language, tag) into a new column\n",
    "df['language_tag'] = df['language'] + '_' + df['tag']\n",
    "df = df.drop(columns=['language', 'tag'])\n",
    "\n",
    "#query the df to get the rows where prompt_dict is en\n",
    "df = df.query('prompt_dict == \"en\"')\n",
    "\n",
    "#print all the df, forcing it to show all the columns\n",
    "with pd.option_context('display.max_rows', 20, 'display.max_columns', 500):\n",
    "    print(df)\n",
    "\n",
    "df = df.query('language_tag == \"en_PER\"')\n",
    "#sns.barplot(x='control_beam_search', y='f1', hue='n_few_shot', data=df_en_PER)\n",
    "\n",
    "grid = sns.FacetGrid(df, row='language_tag')\n",
    "grid.map_dataframe(sns.barplot, x='control_beam_search', y='f1', hue='n_few_shot')"
   ]
  },
  {
   "cell_type": "code",
   "execution_count": null,
   "metadata": {},
   "outputs": [],
   "source": []
  }
 ],
 "metadata": {
  "kernelspec": {
   "display_name": "base",
   "language": "python",
   "name": "python3"
  },
  "language_info": {
   "codemirror_mode": {
    "name": "ipython",
    "version": 3
   },
   "file_extension": ".py",
   "mimetype": "text/x-python",
   "name": "python",
   "nbconvert_exporter": "python",
   "pygments_lexer": "ipython3",
   "version": "3.9.12"
  },
  "orig_nbformat": 4
 },
 "nbformat": 4,
 "nbformat_minor": 2
}
